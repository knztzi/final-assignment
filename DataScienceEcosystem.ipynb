{
 "cells": [
  {
   "cell_type": "markdown",
   "id": "0fd9dea6-39cd-4f61-8110-218bd8cdf198",
   "metadata": {},
   "source": [
    "# Data Science Tools and Ecosystem"
   ]
  },
  {
   "cell_type": "markdown",
   "id": "42289518-ff1c-4fc9-86d5-1b8a3cc13e5e",
   "metadata": {},
   "source": [
    "**Objectives:**"
   ]
  },
  {
   "cell_type": "markdown",
   "id": "d1c4b3d6-7731-4464-9352-bc916a749ae3",
   "metadata": {},
   "source": [
    "- List popular languages for Data Science\n",
    "- Commonly used libraries used by data scientists\n",
    "- Examples of evaluating arithmetic expressions in Python"
   ]
  },
  {
   "cell_type": "markdown",
   "id": "0b97d827-94a5-466f-bce2-a3bed0d1711c",
   "metadata": {},
   "source": [
    "In this notebook, Data Science Tools and Ecosystem are summarized."
   ]
  },
  {
   "cell_type": "markdown",
   "id": "0d0b3f93-f850-4164-9641-00aef099d0c0",
   "metadata": {},
   "source": [
    "Some of the popular languages that Data Scientists use are:\n",
    "1. Python\n",
    "2. SQL\n",
    "3. Scala/Java"
   ]
  },
  {
   "cell_type": "markdown",
   "id": "a28ab105-beff-4761-912c-86c2b47ca5f1",
   "metadata": {},
   "source": [
    "Some of the commonly used libraries used by Data Scientists include:\n",
    "1. Pandas\n",
    "2. NumPy\n",
    "3. Seaborn"
   ]
  },
  {
   "cell_type": "markdown",
   "id": "661aa681-354f-4d61-b918-3b70cdf998b4",
   "metadata": {},
   "source": [
    "|Data Science tools|\n",
    "|-----|\n",
    "| Anaconda |\n",
    "| Google Colab |\n",
    "| VS Code |"
   ]
  },
  {
   "cell_type": "markdown",
   "id": "9bcd9eac-3e09-4919-bb9e-f3b675d03551",
   "metadata": {},
   "source": [
    "### Below are a few examples of evaluating arithmetic expressions in Python"
   ]
  },
  {
   "cell_type": "markdown",
   "id": "4c3635c6-a1e3-4bcb-af3d-bee5c8b65b5e",
   "metadata": {},
   "source": [
    "This a simple arithmetic expression to mutiply then add integers"
   ]
  },
  {
   "cell_type": "code",
   "execution_count": 2,
   "id": "5d9bdfa5-b696-4b1e-8a4b-9ef9cc937cf9",
   "metadata": {},
   "outputs": [
    {
     "data": {
      "text/plain": [
       "17"
      ]
     },
     "execution_count": 2,
     "metadata": {},
     "output_type": "execute_result"
    }
   ],
   "source": [
    "(3*4)+ 5"
   ]
  },
  {
   "cell_type": "markdown",
   "id": "e11397ca-1787-4cf9-8f93-b23f08af016b",
   "metadata": {},
   "source": [
    "This will convert 200 minutes to hours by diving by 60"
   ]
  },
  {
   "cell_type": "code",
   "execution_count": 3,
   "id": "9197267c-663f-49c9-8448-05c97df49626",
   "metadata": {},
   "outputs": [
    {
     "data": {
      "text/plain": [
       "3.3333333333333335"
      ]
     },
     "execution_count": 3,
     "metadata": {},
     "output_type": "execute_result"
    }
   ],
   "source": [
    "200/60"
   ]
  },
  {
   "cell_type": "markdown",
   "id": "db45ab36-38fa-42d0-a9f9-991c75ebe9c2",
   "metadata": {},
   "source": [
    "## Author"
   ]
  },
  {
   "cell_type": "markdown",
   "id": "1605c4ed-af06-4bc3-ac52-7d7e970bbe81",
   "metadata": {},
   "source": [
    "Kenza Tazi"
   ]
  },
  {
   "cell_type": "code",
   "execution_count": null,
   "id": "c84b78bd-9fbd-42c5-9a03-3087dda06d06",
   "metadata": {},
   "outputs": [],
   "source": []
  }
 ],
 "metadata": {
  "kernelspec": {
   "display_name": "Python 3 (ipykernel)",
   "language": "python",
   "name": "python3"
  },
  "language_info": {
   "codemirror_mode": {
    "name": "ipython",
    "version": 3
   },
   "file_extension": ".py",
   "mimetype": "text/x-python",
   "name": "python",
   "nbconvert_exporter": "python",
   "pygments_lexer": "ipython3",
   "version": "3.12.8"
  }
 },
 "nbformat": 4,
 "nbformat_minor": 5
}
